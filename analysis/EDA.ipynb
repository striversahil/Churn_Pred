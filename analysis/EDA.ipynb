{
 "cells": [
  {
   "cell_type": "markdown",
   "metadata": {},
   "source": [
    "### EDA Analysis"
   ]
  },
  {
   "cell_type": "code",
   "execution_count": null,
   "metadata": {},
   "outputs": [
    {
     "data": {
      "text/plain": [
       "Traceback (most recent call last):\n",
       "  File \"/home/sahildev/.vscode-server/extensions/ms-python.python-2024.22.0-linux-x64/python_files/python_server.py\", line 133, in exec_user_input\n",
       "    retval = callable_(user_input, user_globals)\n",
       "  File \"<string>\", line 4, in <module>\n",
       "  File \"/home/sahildev/.local/lib/python3.10/site-packages/pandas/io/parsers/readers.py\", line 1026, in read_csv\n",
       "    return _read(filepath_or_buffer, kwds)\n",
       "  File \"/home/sahildev/.local/lib/python3.10/site-packages/pandas/io/parsers/readers.py\", line 620, in _read\n",
       "    parser = TextFileReader(filepath_or_buffer, **kwds)\n",
       "  File \"/home/sahildev/.local/lib/python3.10/site-packages/pandas/io/parsers/readers.py\", line 1620, in __init__\n",
       "    self._engine = self._make_engine(f, self.engine)\n",
       "  File \"/home/sahildev/.local/lib/python3.10/site-packages/pandas/io/parsers/readers.py\", line 1880, in _make_engine\n",
       "    self.handles = get_handle(\n",
       "  File \"/home/sahildev/.local/lib/python3.10/site-packages/pandas/io/common.py\", line 873, in get_handle\n",
       "    handle = open(\n",
       "IsADirectoryError: [Errno 21] Is a directory: './extracted_data/'\n",
       "\n"
      ]
     },
     "metadata": {},
     "output_type": "display_data"
    }
   ],
   "source": [
    "import pandas as pd\n",
    "import numpy as np\n",
    "\n",
    "df = pd.read_csv('./extracted_data/data.csv')\n",
    "df.describe()"
   ]
  },
  {
   "cell_type": "code",
   "execution_count": null,
   "metadata": {},
   "outputs": [],
   "source": []
  }
 ],
 "metadata": {
  "language_info": {
   "name": "python"
  }
 },
 "nbformat": 4,
 "nbformat_minor": 2
}
